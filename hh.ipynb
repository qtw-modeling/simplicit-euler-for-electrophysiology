{
 "cells": [
  {
   "cell_type": "code",
   "execution_count": 1,
   "metadata": {
    "collapsed": true
   },
   "outputs": [],
   "source": [
    "from __future__ import division\n",
    "import matplotlib \n",
    "# matplotlib.use('Qt5Agg') - интерактивные графики в отдельном окне \\\n",
    "# с использованием Qt\n",
    "%matplotlib qt \n",
    "# интерактивные графики в отдельном окне (другой способ)\n",
    "import matplotlib.pyplot as plt                              \n",
    "import numpy as np\n",
    "import time\n",
    "import numba as nb\n",
    "import math as mt\n",
    "from scipy import interpolate as intp\n",
    "import sys\n",
    "\n",
    "matplotlib.rcParams.update({'font.size': 25})"
   ]
  },
  {
   "cell_type": "markdown",
   "metadata": {
    "collapsed": true
   },
   "source": [
    "# Определения функций для воротных переменных"
   ]
  },
  {
   "cell_type": "code",
   "execution_count": 57,
   "metadata": {},
   "outputs": [],
   "source": [
    "#@nb.jit(nopython=True)\n",
    "def alpha_n(V): return 0.01 * (V + 55.0) / (1.0 - np.exp(-(V + 55.0) / 10.0))\n",
    "\n",
    "#@nb.jit(nopython=True)\n",
    "def beta_n(V):  return 0.125 * np.exp(-(V + 65.0) / 80.0)\n",
    "\n",
    "#@nb.jit(nopython=True)\n",
    "def n_inf(V): return alpha_n(V) / (alpha_n(V) + beta_n(V))\n",
    "\n",
    "#@nb.jit(nopython=True)\n",
    "def alpha_m(V): return 0.1*(V + 40.0)/(1.0 - np.exp(-(V + 40.0)/10.0))\n",
    "\n",
    "#@nb.jit(nopython=True)\n",
    "def beta_m(V): return 4.0*np.exp(-(V + 65.0) / 18.0)\n",
    "\n",
    "#@nb.jit(nopython=True)\n",
    "def m_inf(V): return alpha_m(V) / (alpha_m(V) + beta_m(V))\n",
    "\n",
    "#@nb.jit(nopython=True)\n",
    "def alpha_h(V): return 0.07*np.exp(-(V + 65.5) / 20.0)\n",
    "\n",
    "#@nb.jit(nopython=True)\n",
    "def beta_h(V): return 1.0 / (1.0 + np.exp(-(V + 35.5) / 10.0))\n",
    "\n",
    "#@nb.jit(nopython=True)\n",
    "def h_inf(V): return alpha_h(V) / (alpha_h(V) + beta_h(V))"
   ]
  },
  {
   "cell_type": "markdown",
   "metadata": {},
   "source": [
    "# Определения функций для оценки поргешности численного решения"
   ]
  },
  {
   "cell_type": "code",
   "execution_count": 3,
   "metadata": {},
   "outputs": [],
   "source": [
    "def CalculateNorm(analiticalSolutionFunc, numericalSolutionArr, T, dt, amplitude):\n",
    "\n",
    "    # calculating RRHS error\n",
    "    numerator, denumenator = 0, 0\n",
    "    tArray = np.arange(0, T + dt, dt)\n",
    "    \n",
    "    deltaArray = np.fabs(analiticalSolutionFunc(tArray) - numericalSolutionArr[:])\n",
    "    numerator = np.sum(deltaArray**2)\n",
    "    denumenator = np.sum((analiticalSolutionFunc(tArray))**2)\n",
    "\n",
    "    RRHSerror = np.sqrt(numerator / denumenator)\n",
    "\n",
    "    # calculating max|o| error\n",
    "    maxModError = np.amax(deltaArray)\n",
    "    errorsList = [100 * RRHSerror, 100*maxModError / amplitude]\n",
    "\n",
    "    # allowing spline-interpolation to happen when measuring errors\n",
    "    for i in range(len(errorsList)):\n",
    "        if np.isnan(errorsList[i]) == True:\n",
    "            errorsList[i] = sys.float_info.max\n",
    "    \n",
    "    return errorsList"
   ]
  },
  {
   "cell_type": "markdown",
   "metadata": {},
   "source": [
    "# Функции правых частей для воротных переменных и мембранного потенциала"
   ]
  },
  {
   "cell_type": "code",
   "execution_count": 25,
   "metadata": {},
   "outputs": [],
   "source": [
    "#g_n = 120\n",
    "\n",
    "#@nb.jit(nopython=True)\n",
    "def rhs(i_s, m_, n_, h_, v_):\n",
    "    g_n = 800.\n",
    "    g_k = 36.\n",
    "    g_l = 0.3\n",
    "    v_n = 50.0 # \"true\" Nernst potential = 50.0\n",
    "    v_k = -77.0 # \"true\" Nernst potential = -77.0\n",
    "    v_l = -54.387 # \"true\" Nernst potential = -54.387\n",
    "    c = 1\n",
    "    return (1. / c) * (i_s - g_n * (m_) ** 3 * (h_) * (v_ - v_n) - g_k * (n_ ** 4) * (v_ - v_k) - g_l * (v_ - v_l))\n",
    "\n",
    "#@nb.jit(nopython=True)\n",
    "def rhs_gating_vars(alpha_, beta_, v_, var_):\n",
    "    return alpha_(v_) * (1 - var_) - beta_(v_) * var_\n",
    "\n",
    "\n",
    "\n",
    "# functions, performing timestepping\n",
    "#@nb.jit((nb.float64[:], nb.int64, nb.float64, nb.int64, \\\n",
    "#                        nb.float64[:], nb.float64[:], nb.float64[:], nb.float64[:], nb.float64[:], \\\n",
    "#                        nb.float64[:], nb.float64), nopython=True)\n",
    "def CalculateHHusingExplicitEuler(time_array, size, dt, counter, m, n, h, v, Rhs, I_s, v_rest):\n",
    "    m[0] = m_inf(v_rest)\n",
    "    h[0] = h_inf(v_rest)\n",
    "    n[0] = n_inf(v_rest)\n",
    "    v[0] = v_rest\n",
    "\n",
    "    for i in range(1, size):\n",
    "        m[i] = m_inf(v[i-1]) + (m[i-1] - m_inf(v[i-1])) * np.exp(-dt * (alpha_m(v[i-1]) + beta_m(v[i-1])))\n",
    "        n[i] = n_inf(v[i-1]) + (n[i-1] - n_inf(v[i-1])) * np.exp(-dt * (alpha_n(v[i-1]) + beta_n(v[i-1])))\n",
    "        h[i] = h_inf(v[i-1]) + (h[i-1] - h_inf(v[i-1])) * np.exp(-dt * (alpha_h(v[i-1]) + beta_h(v[i-1])))\n",
    "\n",
    "        Rhs[i-1] = rhs(I_s[i-1], m[i-1], n[i-1], h[i-1], v[i-1])\n",
    "\n",
    "        dv = Rhs[i-1] * dt\n",
    "        v[i] = v[i-1] + dv\n",
    "\n",
    "\n",
    "\n",
    "#@nb.jit((nb.float64[:], nb.int64, nb.float64, nb.int64, \\\n",
    "#                        nb.float64[:], nb.float64[:], nb.float64[:], \\\n",
    "#         nb.float64[:], nb.float64[:], nb.float64[:], nb.float64), nopython=True)\n",
    "def CalculateHHusingSImplicitEuler(time_array, size, dt, counter, m, n, h, v, Rhs, I_s, v_rest):\n",
    "\n",
    "\n",
    "    m[0] = m_inf(v_rest)\n",
    "    h[0] = h_inf(v_rest)\n",
    "    n[0] = n_inf(v_rest)\n",
    "    v[0] = v_rest\n",
    "\n",
    "    step = 1e-4 # step for calculating f'(V) via finite difference\n",
    "\n",
    "    for i in range(1, size):\n",
    "        m[i] = m_inf(v[i-1]) + (m[i-1] - m_inf(v[i-1])) * np.exp(-dt * (alpha_m(v[i-1]) + beta_m(v[i-1])))\n",
    "        n[i] = n_inf(v[i-1]) + (n[i-1] - n_inf(v[i-1])) * np.exp(-dt * (alpha_n(v[i-1]) + beta_n(v[i-1])))\n",
    "        h[i] = h_inf(v[i-1]) + (h[i-1] - h_inf(v[i-1])) * np.exp(-dt * (alpha_h(v[i-1]) + beta_h(v[i-1])))\n",
    "\n",
    "        Rhs[i-1] = rhs(I_s[i-1], m[i-1], n[i-1], h[i-1], v[i-1])\n",
    "        derivative = (rhs(I_s[i-1], m[i-1], n[i-1], h[i-1], v[i-1] + step) - Rhs[i-1]) / step\n",
    "\n",
    "        dv = Rhs[i-1] * dt / (1 - dt * derivative)\n",
    "        v[i] = v[i-1] + dv"
   ]
  },
  {
   "cell_type": "markdown",
   "metadata": {},
   "source": [
    "# Параметры расчетной сетки + др. константы"
   ]
  },
  {
   "cell_type": "code",
   "execution_count": 26,
   "metadata": {},
   "outputs": [
    {
     "name": "stdout",
     "output_type": "stream",
     "text": [
      "List of timesteps:  [6.10351562e-05 1.22070312e-04 2.44140625e-04 4.88281250e-04\n 9.76562500e-04 1.95312500e-03 3.90625000e-03 7.81250000e-03\n 1.56250000e-02 3.12500000e-02 6.25000000e-02 1.25000000e-01\n 2.50000000e-01]\n"
     ]
    }
   ],
   "source": [
    "T = 8 # endtime in msec\n",
    "numBlocksAnalitical = 2**17\n",
    "dtAnalitical = T / numBlocksAnalitical # must be less than 10e-4\n",
    "numBlocksArray = np.array([int(2**n) for n in range(5, 17)])\n",
    "dtArray = np.asarray([dtAnalitical] + list(float(T)/numBlocksArray[::-1])) #[1e-5] + [0.009232069419105898, 0.0041864984602040045] #np.array([1e-5] + list(float(T)/numPointsArray[::-1]))\n",
    "print('List of timesteps: ', dtArray)\n",
    "\n",
    "step_v = 1e-4\n",
    "d_gating_var = 1e-7\n",
    "v0 = -65\n",
    "\n",
    "error, error_e, timeMaxError, timeMaxError_e = [], [], [], []\n",
    "amplitude = 0\n",
    "counter = 0\n",
    "omega = 1 # relaxation parameter"
   ]
  },
  {
   "cell_type": "markdown",
   "metadata": {},
   "source": [
    "#Функция \"main\""
   ]
  },
  {
   "cell_type": "code",
   "execution_count": 27,
   "metadata": {
    "collapsed": false
   },
   "outputs": [
    {
     "name": "stdout",
     "output_type": "stream",
     "text": [
      "Iteration #0\n"
     ]
    },
    {
     "name": "stdout",
     "output_type": "stream",
     "text": [
      "Iteration #1\n"
     ]
    },
    {
     "name": "stdout",
     "output_type": "stream",
     "text": [
      "Iteration #2\n"
     ]
    },
    {
     "name": "stdout",
     "output_type": "stream",
     "text": [
      "Iteration #3\n"
     ]
    },
    {
     "name": "stdout",
     "output_type": "stream",
     "text": [
      "Iteration #4\n"
     ]
    },
    {
     "name": "stdout",
     "output_type": "stream",
     "text": [
      "Iteration #5\n"
     ]
    },
    {
     "name": "stdout",
     "output_type": "stream",
     "text": [
      "Iteration #6\n"
     ]
    },
    {
     "name": "stdout",
     "output_type": "stream",
     "text": [
      "Iteration #7\nIteration #8\n"
     ]
    },
    {
     "name": "stdout",
     "output_type": "stream",
     "text": [
      "Iteration #9\nIteration #10\nIteration #11\nIteration #12\nElapsed time = 4.51e+01 sec\n"
     ]
    },
    {
     "name": "stderr",
     "output_type": "stream",
     "text": [
      "/Users/quothewhite/anaconda/envs/python3/lib/python3.6/site-packages/ipykernel_launcher.py:26: RuntimeWarning: invalid value encountered in double_scalars\n"
     ]
    }
   ],
   "source": [
    "counter = 0\n",
    "analiticalSolutionFunc = None\n",
    "amplitude = 0\n",
    "analiticalSolution = None\n",
    "start = time.clock()\n",
    "listOfTimeArrays, listOfNumericalSolutions = list(), list()\n",
    "error, error_e = [], []\n",
    "timingEE, timingSIE = [], []\n",
    "\n",
    "for dt in dtArray:\n",
    "    startMine = time.clock()\n",
    "\n",
    "    print ('Iteration #%d' % counter)\n",
    "    time_array = np.arange(0, T + dt, dt)\n",
    "    SIZE = len(time_array)\n",
    "    v = 0*np.ones(SIZE)\n",
    "    m = np.zeros(SIZE)\n",
    "    n = np.zeros(SIZE)\n",
    "    h = np.zeros(SIZE)\n",
    "    Rhs = np.zeros(SIZE) # [0. for i in range(size)]\n",
    "    v_e = 0 * np.ones(SIZE) #[0. for i in range(size)]\n",
    "    m_e = np.zeros(SIZE) #[0. for i in range(size)]\n",
    "    h_e = np.zeros(SIZE) # [0. for i in range(size)]\n",
    "    n_e = np.zeros(SIZE) #[0. for i in range(size)]\n",
    "    Rhs_e = np.zeros(SIZE) #[0. for i in range(size)]\n",
    "    I_s = np.zeros(SIZE) #[10. for i in range(size)]\n",
    "    I_s[:] = 10. # original value = 10\n",
    "\n",
    "\n",
    "    NUM_LAUNCHES = 1 # N = 10 is used for the article\n",
    "    startEE = time.clock()\n",
    "    for i in range(NUM_LAUNCHES):\n",
    "        CalculateHHusingExplicitEuler(time_array, SIZE, dt, counter, m, n, h, v_e, Rhs, I_s, v0)\n",
    "    timingEE.append((time.clock() - startEE)/NUM_LAUNCHES)\n",
    "\n",
    "    startSIE = time.clock()\n",
    "    for i in range(NUM_LAUNCHES):\n",
    "        CalculateHHusingSImplicitEuler(time_array, SIZE, dt, counter, m, n, h, v, Rhs, I_s, v0)\n",
    "    timingSIE.append((time.clock() - startSIE)/NUM_LAUNCHES)\n",
    "\n",
    "\n",
    "    if counter == 0:\n",
    "        analiticalSolution = np.zeros(SIZE)\n",
    "        analiticalSolution[:] = v_e[:] # correct is v_e[:] instead of v[:], switch later\n",
    "        MIN, MAX = np.amin(analiticalSolution), np.amax(analiticalSolution)\n",
    "        amplitude = MAX - MIN\n",
    "        analiticalSolution[:] -= MIN\n",
    "        analiticalSolutionFunc = intp.interp1d(time_array, analiticalSolution)\n",
    "\n",
    "\n",
    "    timeMine = time.clock() - startMine\n",
    "\n",
    "    v[:] -= MIN\n",
    "    v_e[:] -= MIN\n",
    "\n",
    "    errTmp = CalculateNorm(analiticalSolutionFunc, v, T, dt, amplitude)\n",
    "    errTmp_e = CalculateNorm(analiticalSolutionFunc, v_e, T, dt, amplitude)\n",
    "     \n",
    "    error.append(errTmp)\n",
    "    error_e.append(errTmp_e)\n",
    "\n",
    "    listOfTimeArrays.append(time_array)\n",
    "    listOfNumericalSolutions.append(v_e)\n",
    "    counter += 1\n",
    "\n",
    "print ('Elapsed time = %.2e sec' % (time.clock() - start))"
   ]
  },
  {
   "cell_type": "markdown",
   "metadata": {},
   "source": [
    "# Таблица погрешностей, графики погрешностей"
   ]
  },
  {
   "cell_type": "code",
   "execution_count": 29,
   "metadata": {},
   "outputs": [
    {
     "name": "stdout",
     "output_type": "stream",
     "text": [
      "[1.00402980e-02 3.73615471e-02 9.23929472e-02 2.02300159e-01\n 4.21160620e-01 8.54878482e-01 1.70577328e+00 3.33936883e+00\n 6.33918814e+00 1.14520500e+01 1.94581764e+01 3.16409389e+01\n 4.80978664e+01]\n                    dt                    t_calc            \n         Неявный метод Явный метод Неявный метод Явный метод\nRRMS   1      0.002286    0.003465      0.331251    0.261877\n       3      0.007001    0.007812      0.117114    0.092845\n       5      0.012137    0.007812      0.070054    0.092845\nMaxmod 1      0.000478    0.000706      1.500910    1.124527\n       3      0.001369    0.002003      0.604355    0.393904\n       5      0.002282    0.003318      0.331557    0.275167\n"
     ]
    }
   ],
   "source": [
    "import pandas as pd\n",
    "\n",
    "error = np.asarray(error)\n",
    "error_e = np.asarray(error_e)\n",
    "\n",
    "print(error[:,0])\n",
    "#print(len(dtArray), ' ', len(error_e[:,0]))\n",
    "\n",
    "\n",
    "listOfTolerances = [1., 3., 5.]\n",
    "LEN = len(listOfTolerances)\n",
    "NUM_ERROR_TYPES = 2\n",
    "\n",
    "errorFunctionRRMS = intp.interp1d(error[:,0], dtArray)\n",
    "errorFunctionMaxmod = intp.interp1d(error[:,1], dtArray)\n",
    "timingFunctionRRMS = intp.interp1d(error[:,0], timingSIE)\n",
    "timingFunctionMaxmod = intp.interp1d(error[:,1], timingSIE)\n",
    "\n",
    "error_e_FunctionRRMS = intp.interp1d(error_e[:,0], dtArray)\n",
    "error_e_FunctionMaxmod = intp.interp1d(error_e[:,1], dtArray)\n",
    "timing_e_FunctionRRMS = intp.interp1d(error_e[:,0], timingEE)\n",
    "timing_e_FunctionMaxmod = intp.interp1d(error_e[:,1], timingEE)\n",
    "\n",
    "\n",
    "d = {('dt', 'Явный метод'): pd.Series(list(error_e_FunctionRRMS(listOfTolerances)) + \n",
    "                                list(error_e_FunctionMaxmod(listOfTolerances)),\n",
    "                            index=[3*['RRMS'] + 3*['Maxmod'], 2*[1, 3, 5]]),\n",
    "     ('dt', 'Неявный метод'): pd.Series(list(errorFunctionRRMS(listOfTolerances)) + \n",
    "                            list(errorFunctionMaxmod(listOfTolerances)),\n",
    "                            index=[3*['RRMS'] + 3*['Maxmod'], 2*[1, 3, 5]]),\n",
    "     ('t_calc', 'Явный метод'): pd.Series(list(timing_e_FunctionRRMS(listOfTolerances)) + \n",
    "                                list(timing_e_FunctionMaxmod(listOfTolerances)),\n",
    "                            index=[3*['RRMS'] + 3*['Maxmod'], 2*[1, 3, 5]]),\n",
    "     ('t_calc', 'Неявный метод'): pd.Series(list(timingFunctionRRMS(listOfTolerances)) + \n",
    "                            list(timingFunctionMaxmod(listOfTolerances)),\n",
    "                            index=[3*['RRMS'] + 3*['Maxmod'], 2*[1, 3, 5]])\n",
    "   }\n",
    "\n",
    "\n",
    "df = pd.DataFrame(d)\n",
    "print(df)\n",
    "\n",
    "writer = pd.ExcelWriter('hh_model_g_na_120.xlsx')\n",
    "df.to_excel(writer, 'Sheet1')\n",
    "writer.save()"
   ]
  },
  {
   "cell_type": "code",
   "execution_count": 30,
   "metadata": {},
   "outputs": [
    {
     "name": "stderr",
     "output_type": "stream",
     "text": [
      "/Users/quothewhite/anaconda/envs/python3/lib/python3.6/site-packages/numpy/ma/core.py:6641: RuntimeWarning: overflow encountered in power\n  result = np.where(m, fa, umath.power(fa, fb)).view(basetype)\n"
     ]
    },
    {
     "data": {
      "text/plain": [
       "<matplotlib.legend.Legend at 0xa3e4a3e48>"
      ]
     },
     "execution_count": 30,
     "metadata": {},
     "output_type": "execute_result"
    }
   ],
   "source": [
    "matplotlib.rcParams.update({'font.size': 25})\n",
    "\n",
    "plt.figure(figsize=(13,8.5))\n",
    "plt.loglog((timingSIE[1:]), (error[1:,0]), 'k-o', label='Упрощенный неявный метод', linewidth=4, markersize=15)\n",
    "plt.loglog((timingEE[1:]), (error_e[1:,0]), 'k-^', label='Явный метод', linewidth=4, markersize = 15)\n",
    "plt.grid('on')\n",
    "plt.xlabel('Время вычисления, с')\n",
    "plt.ylabel('Погрешность RRMS, %')\n",
    "plt.ylim([1e-2, 1e2])\n",
    "plt.axhline(y=5, linewidth=4, color='k', linestyle='--', label='5%')\n",
    "plt.axhline(y=1, linewidth=4, color='k', linestyle='-', label='1%')\n",
    "plt.legend(loc='best', fontsize=20)\n",
    "\n",
    "plt.figure(figsize=(13,8.5))\n",
    "plt.loglog((timingSIE[1:]), (error[1:,1]), 'k-o', label='Упрощенный неявный метод', linewidth=4, markersize = 15)\n",
    "plt.loglog((timingEE[1:]), (error_e[1:,1]), 'k-^', label='Явный метод', linewidth=4, markersize = 15)\n",
    "plt.grid('on')\n",
    "plt.xlabel('Время вычисления, с')\n",
    "plt.ylabel('Погрешность Maxmod, %')\n",
    "plt.ylim([1e-2, 1e2])\n",
    "plt.axhline(y=5, linewidth=4, color='k', linestyle='--', label='5%')\n",
    "plt.axhline(y=1, linewidth=4, color='k', linestyle='-', label='1%')\n",
    "plt.legend(loc='best', fontsize=20)"
   ]
  },
  {
   "cell_type": "markdown",
   "metadata": {},
   "source": [
    "#Оценка шагов по времени, при которых достигается заданная точность"
   ]
  },
  {
   "cell_type": "code",
   "execution_count": 15,
   "metadata": {},
   "outputs": [
    {
     "name": "stdout",
     "output_type": "stream",
     "text": [
      "[0.009215357607712735, 0.004270490964415012]\n"
     ]
    }
   ],
   "source": [
    "tolerance2 = 5.\n",
    "dtArrayForTolerance = [float(errorFunctionRRMS(tolerance2)), float(errorFunctionMaxmod(tolerance2))]\n",
    "print(dtArrayForTolerance)"
   ]
  },
  {
   "cell_type": "code",
   "execution_count": 16,
   "metadata": {},
   "outputs": [
    {
     "name": "stdout",
     "output_type": "stream",
     "text": [
      "Iteration #0\n"
     ]
    },
    {
     "name": "stdout",
     "output_type": "stream",
     "text": [
      "Iteration #1\nIteration #2\n"
     ]
    }
   ],
   "source": [
    "counter = 0\n",
    "analiticalSolutionFunc = None\n",
    "amplitude = 0\n",
    "analiticalSolution = None\n",
    "MIN, MAX = 0, 0\n",
    "start = time.clock()\n",
    "listOfTimeArrays, listOfNumericalSolutions = list(), list()\n",
    "\n",
    "dtArray2 = [dtAnalitical] + dtArrayForTolerance\n",
    "\n",
    "for dt in dtArray2:\n",
    "    startMine = time.clock()\n",
    "\n",
    "    print ('Iteration #%d' % counter)\n",
    "    time_array = np.arange(0, T + dt, dt)\n",
    "    SIZE = len(time_array)\n",
    "    v = 0*np.ones(SIZE)\n",
    "    m = np.zeros(SIZE)\n",
    "    n = np.zeros(SIZE)\n",
    "    h = np.zeros(SIZE)\n",
    "    Rhs = np.zeros(SIZE) # [0. for i in range(size)]\n",
    "    v_e = 0 * np.ones(SIZE) #[0. for i in range(size)]\n",
    "    m_e = np.zeros(SIZE) #[0. for i in range(size)]\n",
    "    h_e = np.zeros(SIZE) # [0. for i in range(size)]\n",
    "    n_e = np.zeros(SIZE) #[0. for i in range(size)]\n",
    "    Rhs_e = np.zeros(SIZE) #[0. for i in range(size)]\n",
    "    I_s = np.zeros(SIZE) #[10. for i in range(size)]\n",
    "    I_s[:] = 10. # original value = 10\n",
    "\n",
    "\n",
    "    \n",
    "    CalculateHHusingExplicitEuler(time_array, SIZE, dt, counter, m, n, h, v_e, Rhs, I_s, v0)\n",
    "    CalculateHHusingSImplicitEuler(time_array, SIZE, dt, counter, m, n, h, v, Rhs, I_s, v0)\n",
    "    \n",
    "\n",
    "\n",
    "    if counter == 0:\n",
    "        analiticalSolution = np.zeros(SIZE)\n",
    "        analiticalSolution[:] = v_e[:] # correct is v_e[:] instead of v[:], switch later\n",
    "        MIN, MAX = np.amin(analiticalSolution), np.amax(analiticalSolution)\n",
    "        amplitude = MAX - MIN\n",
    "        analiticalSolution[:] -= MIN\n",
    "        analiticalSolutionFunc = intp.interp1d(time_array, analiticalSolution)\n",
    "\n",
    "\n",
    "    timeMine = time.clock() - startMine\n",
    "\n",
    "    v[:] -= MIN\n",
    "    v_e[:] -= MIN\n",
    "\n",
    "    listOfTimeArrays.append(time_array)\n",
    "    listOfNumericalSolutions.append(v)\n",
    "    counter += 1"
   ]
  },
  {
   "cell_type": "code",
   "execution_count": 23,
   "metadata": {},
   "outputs": [],
   "source": [
    "plt.figure(figsize=(13, 8.5))\n",
    "\n",
    "plt.plot(listOfTimeArrays[0], analiticalSolution, 'k-', label='Референсное решение', linewidth=2)\n",
    "plt.plot(listOfTimeArrays[1], listOfNumericalSolutions[1], 'k--', label='Погрешность 5% по норме RRMS', linewidth=2)    \n",
    "plt.plot(listOfTimeArrays[2], listOfNumericalSolutions[2], 'k:', label='Погрешность 5% по норме Maxmod', linewidth=2)\n",
    "plt.legend(loc='best', prop={'size': 20})\n",
    "plt.xlabel('Время, мс')\n",
    "plt.ylabel('V, мВ')\n",
    "#plt.ylim([-10, 140])\n",
    "plt.xlim([0, 8])\n",
    "plt.grid('on')\n",
    "plt.show()"
   ]
  },
  {
   "cell_type": "markdown",
   "metadata": {
    "collapsed": false
   },
   "source": [
    "# Построение графиков"
   ]
  },
  {
   "cell_type": "code",
   "execution_count": 28,
   "metadata": {
    "collapsed": false
   },
   "outputs": [],
   "source": [
    "plt.figure(figsize=(13, 8.5))\n",
    "\n",
    "tAnalyticalArray = listOfTimeArrays[0]\n",
    "plt.plot(tAnalyticalArray, analiticalSolution, 'k-', \\\n",
    "         label=r'$\\mathregular{g_{Na} = %d \\, мСм/см^2}$' % 800, lw=4)\n",
    "    \n",
    "plt.legend(loc='best')\n",
    "plt.xlabel('Время, мс')\n",
    "plt.ylabel('V, мВ')\n",
    "#plt.ylim([0, 140])\n",
    "plt.xlim([0., T])\n",
    "plt.grid('on')\n",
    "plt.show()"
   ]
  },
  {
   "cell_type": "markdown",
   "metadata": {},
   "source": [
    "## Комментарии:\n",
    "\n",
    "* За аналитическое можно принять решение при dt = 1e-4 мс.\n",
    "* Порог возбуждения принимаем равным $V_{trh} = -55 \\, мВ$, для всех значений проводимости $g_{Na}$\n",
    "\n",
    "\n",
    "\n",
    "###Пересчитать потенциал ГХК при увеличении проводимостей! Потенциал покоя примерно одинаковый при всех $g_{Na} = 120 - 200 \\,$, и равен $V_{rest} = -65 \\, мВ$. При $g_{Na} >= 200$ (примерно 200) - система начинает \"автоколебания\", стационарного состояния не существует; тем не менее, начальное условие для всех проводимостей $g_{Na}$ устанавливаем $V_0 = V_{rest} = -65 \\, мВ$, для единообразия.\n",
    "\n",
    "Потенциал покоя $V_{rest} = -65 \\, мВ$ при $g_{Na} = 120$."
   ]
  },
  {
   "cell_type": "markdown",
   "metadata": {},
   "source": [
    "# Графики производных и их _Max_ значения\n",
    "\n",
    "### NB: При вычислении производных высших порядков возникают огромные ошибки (вроде, это ошибки округления судя по \"пилам\" на графиках); возможно подумать, как это исправить."
   ]
  },
  {
   "cell_type": "code",
   "execution_count": 41,
   "metadata": {},
   "outputs": [],
   "source": [
    "import scipy.interpolate as interpol\n",
    "milli = 1e-3 # msec -> sec; UPDATE: transition to msec is not needed\n",
    "\n",
    "\n",
    "VAnalyticalArray = analiticalSolution\n",
    "\n",
    "tAnalyticalArray = listOfTimeArrays[0] # corresponding array of timesteps, in msec\n",
    "dt = np.diff(tAnalyticalArray)[0] # [0]=[1]=[2]=...=[n] because the grid is equally spaced\n",
    "\n",
    "matplotlib.rcParams.update({'font.size': 20})\n",
    "xTicks = [0, 4, 8]\n",
    "#from matplotlib.ticker import FormatStrFormatter\n",
    "# plotting derivatives calculated via finite-difference formulas\n",
    "maxOrderDerivative = 5\n",
    "valuesArray, tArray, dt = VAnalyticalArray, tAnalyticalArray, np.diff(tAnalyticalArray)[0]\n",
    "plt.figure(figsize=(13, 8.5))\n",
    "\n",
    "# plotting analytical solution\n",
    "ax = plt.subplot(2, 3, 1)\n",
    "plt.plot(tArray[1:], valuesArray[1:], 'k-', lw=3)  \n",
    "plt.grid('on')\n",
    "plt.xlim([0, 8])\n",
    "ax.set_xticks(xTicks)\n",
    "ax.set_xticklabels([])\n",
    "plt.ticklabel_format(style='sci', axis='y', scilimits=(0,0), useMathText=True)\n",
    "plt.ylabel(r'$\\mathregular{V, мВ}$')   \n",
    "\n",
    "# plotting derivatives\n",
    "for i in range(1, maxOrderDerivative + 1):\n",
    "    ax = plt.subplot(2, 3, i + 1)\n",
    "    \n",
    "    dt = np.diff(tArray)[0]\n",
    "    derivativeArray = np.gradient(valuesArray, dt)\n",
    "    plt.plot(tArray[2:-2], derivativeArray[2:-2], 'k-', lw=3)  \n",
    "    plt.grid('on')\n",
    "    plt.xlim([0, 8])\n",
    "    ax.set_xticks(xTicks)\n",
    "    ax.set_xticklabels([])\n",
    "    #ax.yaxis.set_major_formatter(FormatStrFormatter('%.1e'))\n",
    "    plt.ticklabel_format(style='sci', axis='y', scilimits=(0,0), useMathText=True)\n",
    "    \n",
    "    plt.ylabel(r'$\\mathregular{V^{\\left(%d\\right)}, мВ/мс^{%d}}$' % (i, i))\n",
    "    \n",
    "    if i > 1:\n",
    "        ax.set_title(r'$\\mathregular{\\max |V^{\\left(%d\\right)}| = %.2e \\; мВ/мс^{%d}}$' \\\n",
    "                    % (i, np.fabs(derivativeArray[2:-2]).max(), i), fontsize=15, y = 1.15)\n",
    "    \n",
    "    if i > 2: # set xlabels for bottom subplots\n",
    "        ax.set_xticks(xTicks)\n",
    "        ax.set_xticklabels([0, 4, 8])\n",
    "        plt.xlabel(r'Время, мс')\n",
    "    \n",
    "    tArray = tArray[::2]\n",
    "    valuesArray = derivativeArray[::2]\n",
    "    \n",
    "plt.show()"
   ]
  },
  {
   "cell_type": "markdown",
   "metadata": {},
   "source": [
    "# Графики аналитических решений при различных $g_{Na}$"
   ]
  },
  {
   "cell_type": "code",
   "execution_count": 31,
   "metadata": {},
   "outputs": [],
   "source": [
    "#@nb.jit(nopython=True)\n",
    "def rhs(i_s, m_, n_, h_, v_, g_n):\n",
    "    g_k = 36\n",
    "    g_l = 0.3\n",
    "    v_n = 50.0 # \"true\" Nernst potential = 50.0\n",
    "    v_k = -77.0 # \"true\" Nernst potential = -77.0\n",
    "    v_l = -54.387 # \"true\" Nernst potential = -54.387\n",
    "    c = 1\n",
    "    return (1. / c) * (i_s - g_n * (m_) ** 3 * (h_) * (v_ - v_n) - g_k * (n_ ** 4) * (v_ - v_k) - g_l * (v_ - v_l))\n",
    "\n",
    "\n",
    "\n",
    "\n",
    "# functions, performing timestepping\n",
    "#@nb.jit((nb.float64[:], nb.int64, nb.float64, \\\n",
    "#                        nb.float64[:], nb.float64[:], nb.float64[:], nb.float64[:], nb.float64[:], \\\n",
    "#                        nb.float64[:], nb.float64, nb.float64), nopython=True)\n",
    "def CalculateHHusingExplicitEuler(time_array, size, dt,  m, n, h, v, Rhs, I_s, v_rest, g_n):\n",
    "    m[0] = m_inf(v_rest)\n",
    "    h[0] = h_inf(v_rest)\n",
    "    n[0] = n_inf(v_rest)\n",
    "    v[0] = v_rest\n",
    "\n",
    "    for i in range(1, size):\n",
    "        m[i] = m_inf(v[i-1]) + (m[i-1] - m_inf(v[i-1])) * np.exp(-dt * (alpha_m(v[i-1]) + beta_m(v[i-1])))\n",
    "        n[i] = n_inf(v[i-1]) + (n[i-1] - n_inf(v[i-1])) * np.exp(-dt * (alpha_n(v[i-1]) + beta_n(v[i-1])))\n",
    "        h[i] = h_inf(v[i-1]) + (h[i-1] - h_inf(v[i-1])) * np.exp(-dt * (alpha_h(v[i-1]) + beta_h(v[i-1])))\n",
    "\n",
    "        Rhs[i-1] = rhs(I_s[i-1], m[i-1], n[i-1], h[i-1], v[i-1], g_n)\n",
    "\n",
    "        dv = Rhs[i-1] * dt\n",
    "        v[i] = v[i-1] + dv"
   ]
  },
  {
   "cell_type": "code",
   "execution_count": 38,
   "metadata": {},
   "outputs": [
    {
     "name": "stdout",
     "output_type": "stream",
     "text": [
      "dt = 6.10e-05\nIteration #0\n"
     ]
    },
    {
     "name": "stdout",
     "output_type": "stream",
     "text": [
      "Iteration #1\n"
     ]
    },
    {
     "name": "stdout",
     "output_type": "stream",
     "text": [
      "Iteration #2\n"
     ]
    },
    {
     "name": "stdout",
     "output_type": "stream",
     "text": [
      "Iteration #3\n"
     ]
    },
    {
     "name": "stdout",
     "output_type": "stream",
     "text": [
      "Iteration #4\n"
     ]
    },
    {
     "name": "stdout",
     "output_type": "stream",
     "text": [
      "Iteration #5\n"
     ]
    }
   ],
   "source": [
    "counterOuter = 0\n",
    "g_n = [80., 120.] + [float(2*i) for i in range(100, 401, 100)]\n",
    "dt = dtAnalitical # timestep\n",
    "print('dt = %.2e' % dt)\n",
    "T = 8. # endtime\n",
    "v_0 = -65.\n",
    "\n",
    "# grid arrays and parameters \n",
    "time_array = np.arange(0, T + dt, dt)\n",
    "SIZE = len(time_array)\n",
    "v = 0*np.ones(SIZE)\n",
    "m = np.zeros(SIZE)\n",
    "n = np.zeros(SIZE)\n",
    "h = np.zeros(SIZE)\n",
    "Rhs = np.zeros(SIZE)\n",
    "v_e = 0 * np.ones(SIZE)\n",
    "m_e = np.zeros(SIZE)\n",
    "h_e = np.zeros(SIZE)\n",
    "n_e = np.zeros(SIZE)\n",
    "Rhs_e = np.zeros(SIZE)\n",
    "I_s = np.zeros(SIZE)\n",
    "I_s[:] = 10.\n",
    "analiticalSolutionsList = []\n",
    "\n",
    "for stiffnessParameter in g_n: \n",
    "    print('Iteration #%d' % counterOuter)\n",
    "    \n",
    "    CalculateHHusingExplicitEuler(time_array, SIZE, dt, m, n, h, v_e, Rhs, I_s, v_0, stiffnessParameter)\n",
    "    \n",
    "    analiticalSolution = np.zeros(len(time_array))\n",
    "    analiticalSolution[:] = v_e[:]\n",
    "    MIN, MAX = np.amin(analiticalSolution), np.amax(analiticalSolution)\n",
    "    amplitude = MAX - MIN\n",
    "    analiticalSolution[:] -= MIN\n",
    "\n",
    "    counterOuter += 1\n",
    "    analiticalSolutionsList.append(analiticalSolution)\n",
    "    \n",
    "# plotting analytical solutions\n",
    "lineStylesTmp = [':', '-', '--', '-.', ':', '-']\n",
    "lineStyles = [('k' + styleTmp) for styleTmp in lineStylesTmp]\n",
    "\n",
    "plt.figure()\n",
    "matplotlib.rcParams.update({'font.size': 25})\n",
    "for i in range(len(g_n)):\n",
    "        plt.plot(time_array, analiticalSolutionsList[i], lineStyles[i], label=r'$\\mathregular{g_{Na} = %d \\, мСм/см^2}$' % g_n[i], linewidth=4)\n",
    "        plt.legend(loc='best', fontsize=20)\n",
    "        plt.xlabel(r'Время, мс')\n",
    "        plt.ylabel(r'V, мВ')\n",
    "        #plt.ylim([0, 140])\n",
    "        plt.xlim([0, 8])\n",
    "        plt.grid('on')\n",
    "plt.show()"
   ]
  },
  {
   "cell_type": "markdown",
   "metadata": {},
   "source": [
    "# Ускорение при различных величинах $g_{Na}$"
   ]
  },
  {
   "cell_type": "code",
   "execution_count": 59,
   "metadata": {},
   "outputs": [],
   "source": [
    "#@nb.jit(nopython=True)\n",
    "def rhs(i_s, m_, n_, h_, v_, g_n):\n",
    "    g_k = 36\n",
    "    g_l = 0.3\n",
    "    v_n = 50.0 # \"true\" Nernst potential = 50.0\n",
    "    v_k = -77.0 # \"true\" Nernst potential = -77.0\n",
    "    v_l = -54.387 # \"true\" Nernst potential = -54.387\n",
    "    c = 1\n",
    "    return (1. / c) * (i_s - g_n * (m_) ** 3 * (h_) * (v_ - v_n) - g_k * (n_ ** 4) * (v_ - v_k) - g_l * (v_ - v_l))\n",
    "\n",
    "#@nb.jit(nopython=True)\n",
    "def rhs_gating_vars(alpha_, beta_, v_, var_):\n",
    "    return alpha_(v_) * (1 - var_) - beta_(v_) * var_\n",
    "\n",
    "\n",
    "\n",
    "# functions, performing timestepping\n",
    "#@nb.jit((nb.float64[:], nb.int64, nb.float64, nb.int64, \\\n",
    "#                        nb.float64[:], nb.float64[:], nb.float64[:], nb.float64[:], nb.float64[:], \\\n",
    " #                       nb.float64[:], nb.float64, nb.float64), nopython=True)\n",
    "def CalculateHHusingExplicitEuler(time_array, size, dt, counter, m, n, h, v, Rhs, I_s, v_rest, g_n):\n",
    "    m[0] = m_inf(v_rest)\n",
    "    h[0] = h_inf(v_rest)\n",
    "    n[0] = n_inf(v_rest)\n",
    "    v[0] = v_rest\n",
    "\n",
    "    for i in range(1, size):\n",
    "        m[i] = m_inf(v[i-1]) + (m[i-1] - m_inf(v[i-1])) * np.exp(-dt * (alpha_m(v[i-1]) + beta_m(v[i-1])))\n",
    "        n[i] = n_inf(v[i-1]) + (n[i-1] - n_inf(v[i-1])) * np.exp(-dt * (alpha_n(v[i-1]) + beta_n(v[i-1])))\n",
    "        h[i] = h_inf(v[i-1]) + (h[i-1] - h_inf(v[i-1])) * np.exp(-dt * (alpha_h(v[i-1]) + beta_h(v[i-1])))\n",
    "\n",
    "        Rhs[i-1] = rhs(I_s[i-1], m[i-1], n[i-1], h[i-1], v[i-1], g_n)\n",
    "\n",
    "        dv = Rhs[i-1] * dt\n",
    "        v[i] = v[i-1] + dv\n",
    "\n",
    "\n",
    "\n",
    "#@nb.jit((nb.float64[:], nb.int64, nb.float64, nb.int64, \\\n",
    "         #               nb.float64[:], nb.float64[:], nb.float64[:], \\\n",
    "         #nb.float64[:], nb.float64[:], nb.float64[:], nb.float64,\n",
    "         #nb.float64), nopython=True)\n",
    "def CalculateHHusingSImplicitEuler(time_array, size, dt, counter, m, n, h, v, Rhs, I_s, v_rest, g_n):\n",
    "\n",
    "\n",
    "    m[0] = m_inf(v_rest)\n",
    "    h[0] = h_inf(v_rest)\n",
    "    n[0] = n_inf(v_rest)\n",
    "    v[0] = v_rest\n",
    "\n",
    "    step = 1e-4 # step for calculating f'(V) via finite difference\n",
    "\n",
    "    for i in range(1, size):\n",
    "        m[i] = m_inf(v[i-1]) + (m[i-1] - m_inf(v[i-1])) * np.exp(-dt * (alpha_m(v[i-1]) + beta_m(v[i-1])))\n",
    "        n[i] = n_inf(v[i-1]) + (n[i-1] - n_inf(v[i-1])) * np.exp(-dt * (alpha_n(v[i-1]) + beta_n(v[i-1])))\n",
    "        h[i] = h_inf(v[i-1]) + (h[i-1] - h_inf(v[i-1])) * np.exp(-dt * (alpha_h(v[i-1]) + beta_h(v[i-1])))\n",
    "\n",
    "        Rhs[i-1] = rhs(I_s[i-1], m[i-1], n[i-1], h[i-1], v[i-1], g_n)\n",
    "        derivative = (rhs(I_s[i-1], m[i-1], n[i-1], h[i-1], v[i-1] + step, g_n) - Rhs[i-1]) / step\n",
    "\n",
    "        dv = Rhs[i-1] * dt / (1 - dt * derivative)\n",
    "        v[i] = v[i-1] + dv"
   ]
  },
  {
   "cell_type": "code",
   "execution_count": 60,
   "metadata": {},
   "outputs": [
    {
     "name": "stdout",
     "output_type": "stream",
     "text": [
      "Timesteps:  [6.10351562e-05 1.22070312e-04 2.44140625e-04 4.88281250e-04\n 9.76562500e-04 1.95312500e-03 3.90625000e-03 7.81250000e-03\n 1.56250000e-02 3.12500000e-02 6.25000000e-02 1.25000000e-01\n 2.50000000e-01]\n"
     ]
    }
   ],
   "source": [
    "g_n_array = [80., 120.] + [float(2*i) for i in range(100, 401, 100)]\n",
    "numPointsArray = np.array([int(2**n) for n in range(5, 17)])\n",
    "T = 8.\n",
    "dtArray = np.asarray([dtAnalitical] + list(float(T)/numPointsArray[::-1])) \n",
    "\n",
    "print('Timesteps: ', dtArray)"
   ]
  },
  {
   "cell_type": "code",
   "execution_count": 67,
   "metadata": {},
   "outputs": [
    {
     "name": "stdout",
     "output_type": "stream",
     "text": [
      "\nCalclulating for gNa = 80.00 mSm/cm^2\n     Iteration #0\n"
     ]
    },
    {
     "name": "stdout",
     "output_type": "stream",
     "text": [
      "     Iteration #1\n     Iteration #2"
     ]
    },
    {
     "name": "stdout",
     "output_type": "stream",
     "text": [
      "\n     Iteration #3\n     Iteration #4\n     Iteration #5\n     Iteration #6\n     Iteration #7\n     Iteration #8\n     Iteration #9\n     Iteration #10\n     Iteration #11\n     Iteration #12\n\nCalclulating for gNa = 120.00 mSm/cm^2\n     Iteration #0\n"
     ]
    },
    {
     "name": "stdout",
     "output_type": "stream",
     "text": [
      "     Iteration #1\n     Iteration #2\n"
     ]
    },
    {
     "name": "stdout",
     "output_type": "stream",
     "text": [
      "     Iteration #3\n     Iteration #4\n     Iteration #5\n     Iteration #6\n     Iteration #7\n     Iteration #8\n     Iteration #9\n     Iteration #10\n     Iteration #11\n     Iteration #12\n\nCalclulating for gNa = 200.00 mSm/cm^2\n     Iteration #0\n"
     ]
    },
    {
     "name": "stdout",
     "output_type": "stream",
     "text": [
      "     Iteration #1\n     Iteration #2\n"
     ]
    },
    {
     "name": "stdout",
     "output_type": "stream",
     "text": [
      "     Iteration #3\n     Iteration #4\n     Iteration #5\n     Iteration #6\n     Iteration #7\n     Iteration #8\n     Iteration #9\n     Iteration #10\n     Iteration #11\n     Iteration #12\n\nCalclulating for gNa = 400.00 mSm/cm^2\n     Iteration #0\n"
     ]
    },
    {
     "name": "stdout",
     "output_type": "stream",
     "text": [
      "     Iteration #1\n"
     ]
    },
    {
     "name": "stdout",
     "output_type": "stream",
     "text": [
      "     Iteration #2\n     Iteration #3\n     Iteration #4\n     Iteration #5\n"
     ]
    },
    {
     "name": "stdout",
     "output_type": "stream",
     "text": [
      "     Iteration #6\n     Iteration #7\n     Iteration #8\n     Iteration #9\n     Iteration #10\n     Iteration #11\n     Iteration #12\n\nCalclulating for gNa = 600.00 mSm/cm^2\n     Iteration #0\n"
     ]
    },
    {
     "name": "stdout",
     "output_type": "stream",
     "text": [
      "     Iteration #1\n"
     ]
    },
    {
     "name": "stdout",
     "output_type": "stream",
     "text": [
      "     Iteration #2\n     Iteration #3\n     Iteration #4\n     Iteration #5\n     Iteration #6\n"
     ]
    },
    {
     "name": "stdout",
     "output_type": "stream",
     "text": [
      "     Iteration #7\n     Iteration #8\n     Iteration #9\n     Iteration #10\n     Iteration #11\n     Iteration #12\n\nCalclulating for gNa = 800.00 mSm/cm^2\n     Iteration #0\n"
     ]
    },
    {
     "name": "stdout",
     "output_type": "stream",
     "text": [
      "     Iteration #1\n"
     ]
    },
    {
     "name": "stdout",
     "output_type": "stream",
     "text": [
      "     Iteration #2\n     Iteration #3\n     Iteration #4\n     Iteration #5\n     Iteration #6\n"
     ]
    },
    {
     "name": "stdout",
     "output_type": "stream",
     "text": [
      "     Iteration #7\n     Iteration #8\n     Iteration #9\n     Iteration #10\n     Iteration #11\n     Iteration #12\ntime elapsed = 5.42e+00 sec\n"
     ]
    }
   ],
   "source": [
    "counterInner, counterOuter = 0, 0\n",
    "speedupRRMS, speedupMaxmod = [], []\n",
    "start = time.clock()\n",
    "\n",
    "for g_n in g_n_array:\n",
    "    print('\\nCalclulating for gNa = %.2f mSm/cm^2' % g_n)\n",
    "    timingEE, timingSIE = [], []\n",
    "    error, error_e = [], []\n",
    "    counterInner = 0\n",
    "    for dt in dtArray:\n",
    "        startMine = time.clock()\n",
    "\n",
    "        print ('     Iteration #%d' % counterInner)\n",
    "        time_array = np.arange(0, T + dt, dt)\n",
    "        SIZE = len(time_array)\n",
    "        v = 0*np.ones(SIZE)\n",
    "        m = np.zeros(SIZE)\n",
    "        n = np.zeros(SIZE)\n",
    "        h = np.zeros(SIZE)\n",
    "        Rhs = np.zeros(SIZE) # [0. for i in range(size)]\n",
    "        v_e = 0 * np.ones(SIZE) #[0. for i in range(size)]\n",
    "        m_e = np.zeros(SIZE) #[0. for i in range(size)]\n",
    "        h_e = np.zeros(SIZE) # [0. for i in range(size)]\n",
    "        n_e = np.zeros(SIZE) #[0. for i in range(size)]\n",
    "        Rhs_e = np.zeros(SIZE) #[0. for i in range(size)]\n",
    "        I_s = np.zeros(SIZE) #[10. for i in range(size)]\n",
    "        I_s[:] = 10\n",
    "\n",
    "\n",
    "        NUM_LAUNCHES = 10\n",
    "        startEE = time.clock()\n",
    "        for i in range(NUM_LAUNCHES):\n",
    "            CalculateHHusingExplicitEuler(time_array, SIZE, dt, counter, m, n, h, v_e, Rhs, I_s, v0, g_n)        \n",
    "        timingEE.append((time.clock() - startEE)/NUM_LAUNCHES)\n",
    "\n",
    "        startSIE = time.clock()\n",
    "        for i in range(NUM_LAUNCHES):\n",
    "            CalculateHHusingSImplicitEuler(time_array, SIZE, dt, counter, m, n, h, v, Rhs, I_s, v0, g_n)\n",
    "        timingSIE.append((time.clock() - startSIE)/NUM_LAUNCHES)\n",
    "\n",
    "        if counterInner == 0:\n",
    "            analiticalSolution = np.zeros(SIZE)\n",
    "            analiticalSolution[:] = v_e[:]\n",
    "            MIN, MAX = np.amin(analiticalSolution), np.amax(analiticalSolution)\n",
    "            amplitude = MAX - MIN\n",
    "            analiticalSolution[:] -= MIN\n",
    "            analiticalSolutionFunc = intp.interp1d(time_array, analiticalSolution)\n",
    "\n",
    "\n",
    "        timeMine = time.clock() - startMine\n",
    "\n",
    "        v[:] -= MIN\n",
    "        v_e[:] -= MIN\n",
    "\n",
    "        errTmp = CalculateNorm(analiticalSolutionFunc, v, T, dt, amplitude)\n",
    "        errTmp_e = CalculateNorm(analiticalSolutionFunc, v_e, T, dt, amplitude)\n",
    "\n",
    "        error.append(errTmp)\n",
    "        error_e.append(errTmp_e)\n",
    "\n",
    "        counterInner += 1\n",
    "\n",
    "    counterOuter += 1\n",
    "    error_for_calc = np.array(error)\n",
    "    error_e_for_calc = np.array(error_e)\n",
    "\n",
    "    # DEBUG: print(error_e_for_calc)\n",
    "    \n",
    "    speedupRRMS.append([intp.interp1d(error_e_for_calc[:, 0], timingEE[:])(5.) / \\\n",
    "                       intp.interp1d(error_for_calc[:, 0], timingSIE[:])(5.), \\\n",
    "                        intp.interp1d(error_e_for_calc[:, 0], timingEE[:])(1.) / \\\n",
    "                        intp.interp1d(error_for_calc[:, 0], timingSIE[:])(1.)]\n",
    "                       )\n",
    "\n",
    "\n",
    "    speedupMaxmod.append([intp.interp1d(error_e_for_calc[:, 1], timingEE[:])(5.) / \\\n",
    "                       intp.interp1d(error_for_calc[:, 1], timingSIE[:])(5.), \\\n",
    "                          intp.interp1d(error_e_for_calc[:, 1], timingEE[:])(1.) / \\\n",
    "                          intp.interp1d(error_for_calc[:, 1], timingSIE[:])(1.)]\n",
    "                         )\n",
    "\n",
    "print ('time elapsed = %.2e sec' % (time.clock() - start))\n",
    "\n",
    "speedupRRMS = np.array(speedupRRMS)\n",
    "speedupMaxmod = np.array(speedupMaxmod)"
   ]
  },
  {
   "cell_type": "code",
   "execution_count": 68,
   "metadata": {},
   "outputs": [],
   "source": [
    "plt.figure(figsize=(13, 8.5))\n",
    "lw_ = 2\n",
    "plt.plot(g_n_array, speedupRRMS[:, 0], 'k-o', label=r'5% RRMS', lw=lw_, \n",
    "         markersize=10, fillstyle='none')\n",
    "plt.plot(g_n_array, speedupRRMS[:, 1], 'k-.^', label=r'1% RRMS', lw=lw_, \n",
    "         markersize=10, fillstyle='none')\n",
    "plt.plot(g_n_array, speedupMaxmod[:, 0], 'k--s', label=r'5% Maxmod', lw=lw_, \n",
    "         markersize=10, fillstyle='none')\n",
    "plt.plot(g_n_array, speedupMaxmod[:, 1], 'k:v', label=r'1% Maxmod', lw=lw_, \n",
    "         markersize=10, fillstyle='none')\n",
    "plt.legend(loc='best')\n",
    "\n",
    "plt.xlabel(r'$\\mathregular{g_{Na}, \\, мСм/см^2}$')\n",
    "plt.ylabel(r'Ускорение')\n",
    "plt.ylim([0.4, 1.5])\n",
    "plt.grid('on')\n",
    "plt.show()"
   ]
  },
  {
   "cell_type": "code",
   "execution_count": null,
   "metadata": {},
   "outputs": [],
   "source": [
    ""
   ]
  }
 ],
 "metadata": {
  "kernelspec": {
   "display_name": "Python 2",
   "language": "python",
   "name": "python2"
  },
  "language_info": {
   "codemirror_mode": {
    "name": "ipython",
    "version": 2.0
   },
   "file_extension": ".py",
   "mimetype": "text/x-python",
   "name": "python",
   "nbconvert_exporter": "python",
   "pygments_lexer": "ipython2",
   "version": "2.7.6"
  }
 },
 "nbformat": 4,
 "nbformat_minor": 0
}