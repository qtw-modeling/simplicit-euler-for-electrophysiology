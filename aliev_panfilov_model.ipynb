{
 "cells": [
  {
   "cell_type": "code",
   "execution_count": 1,
   "metadata": {
    "collapsed": true
   },
   "outputs": [],
   "source": [
    "from __future__ import division\n",
    "import matplotlib \n",
    "# matplotlib.use('Qt5Agg') - интерактивные графики в отдельном окне \\\n",
    "# с использованием Qt\n",
    "\n",
    "%matplotlib qt \n",
    "# интерактивные графики в отдельном окне (другой способ)\n",
    "\n",
    "\n",
    "import matplotlib.pyplot as plt\n",
    "import numpy as np\n",
    "import time\n",
    "import numba as nb\n",
    "import math as mt\n",
    "from scipy import interpolate as intp\n",
    "import sys\n",
    "from timeit import default_timer as timer\n",
    "\n",
    "matplotlib.rcParams.update({'font.size': 25})"
   ]
  },
  {
   "cell_type": "code",
   "execution_count": 4,
   "metadata": {},
   "outputs": [],
   "source": [
    "#@nb.jit(nopython=True)\n",
    "def CalculateNorm(analiticalSolutionFunc, numericalSolutionArr, T, dt, amplitude):\n",
    "    # calculating RRHS error\n",
    "    numerator, denumenator = 0, 0\n",
    "    tArray = np.arange(0, T + dt, dt)\n",
    "    \n",
    "    deltaArray = np.fabs(analiticalSolutionFunc(tArray) - numericalSolutionArr[:])\n",
    "    numerator = np.sum(deltaArray**2)\n",
    "    denumenator = np.sum((analiticalSolutionFunc(tArray))**2)\n",
    "\n",
    "    RRHSerror = np.sqrt(numerator / denumenator)\n",
    "\n",
    "    # calculating max|o| error\n",
    "    maxModError = np.amax(deltaArray)\n",
    "    errorsList = [100 * RRHSerror, 100*maxModError / amplitude]\n",
    "\n",
    "    # allowing spline-interpolation to happen when measuring errors\n",
    "    for i in range(len(errorsList)):\n",
    "        if np.isnan(errorsList[i]) == True:\n",
    "            errorsList[i] = sys.float_info.max\n",
    "    \n",
    "    return errorsList"
   ]
  },
  {
   "cell_type": "code",
   "execution_count": 5,
   "metadata": {},
   "outputs": [],
   "source": [
    "#@nb.jit(nopython=True)\n",
    "def eps(u, v):\n",
    "    eps0 = 0.002\n",
    "    mu1 = 0.2\n",
    "    mu2 = 0.3\n",
    "    return eps0 + (mu1*v) / (u + mu2)\n",
    "\n",
    "#@nb.jit(nopython=True)\n",
    "def rhsU(u, v, k, iStim=0.1):\n",
    "    return -k*u*(u - a)*(u - 1) - u*v + iStim\n",
    "\n",
    "#@nb.jit(nopython=True)\n",
    "def rhsV(u, v, k):\n",
    "    return eps(u, v)*(-v - k*u*(u - a - 1))\n",
    "\n",
    "\n",
    "#@nb.jit((nb.float64[:], nb.int64, nb.float64, nb.int64, \\\n",
    "#                        nb.float64[:], nb.float64[:], nb.float64[:], nb.float64[:], \\\n",
    "#                        nb.float64[:], nb.float64, nb.float64, nb.float64), nopython=True)\n",
    "def CalculateUsingExplicitEuler(time_array, size, dt, counter, u, v, RhsU, RhsV, I_s, k,\\\n",
    "                                u_rest, v_rest):\n",
    "    u[0] = u_rest\n",
    "    v[0] = v_rest\n",
    "\n",
    "    for i in range(1, size):\n",
    "        #print('EE step: complete %.2f' % (i/float(size - 1)))\n",
    "        RhsU[i - 1] = rhsU(u[i - 1], v[i - 1], k)\n",
    "        RhsV[i - 1] = rhsV(u[i - 1], v[i - 1], k)\n",
    "\n",
    "        u[i] = u[i - 1] + dt*RhsU[i - 1]\n",
    "        v[i] = v[i - 1] + dt*RhsV[i - 1]\n",
    "\n",
    "\n",
    "\n",
    "#@nb.jit((nb.float64[:], nb.int64, nb.float64, nb.int64, \\\n",
    "#                        nb.float64[:], nb.float64[:], nb.float64[:], nb.float64[:],\\\n",
    "#                        nb.float64[:], nb.float64, nb.float64, nb.float64), nopython=True)\n",
    "def CalculateUsingSImplicitEuler(time_array, size, dt, counter, u, v, RhsU, RhsV, I_s, k,\\\n",
    "                                 u_rest, v_rest):\n",
    "\n",
    "    u[0] = u_rest\n",
    "    v[0] = v_rest\n",
    "    stepForDer = 1e-2\n",
    "    \n",
    "    for i in range(1, size):\n",
    "        #print('SIE step: complete %.2f' % (i/float(size - 1)))\n",
    "        RhsU[i - 1] = rhsU(u[i - 1], v[i - 1], k)\n",
    "        RhsV[i - 1] = rhsV(u[i - 1], v[i - 1], k)\n",
    "\n",
    "        dRhsUdU = (rhsU(u[i - 1] + stepForDer, v[i - 1], k) \\\n",
    "                                - RhsU[i - 1]) / stepForDer\n",
    "\n",
    "        v[i] = v[i - 1] + dt*RhsV[i - 1]\n",
    "        u[i] = u[i - 1] + dt*RhsU[i - 1] / (1 - dt*dRhsUdU)"
   ]
  },
  {
   "cell_type": "code",
   "execution_count": 6,
   "metadata": {},
   "outputs": [
    {
     "name": "stdout",
     "output_type": "stream",
     "text": [
      "[9.84191895e-04 3.93676758e-03 7.87353516e-03 1.57470703e-02\n 3.14941406e-02 6.29882812e-02 1.25976562e-01 2.51953125e-01\n 5.03906250e-01 1.00781250e+00 2.01562500e+00 4.03125000e+00\n 8.06250000e+00]\n"
     ]
    }
   ],
   "source": [
    "kOriginal = 8.\n",
    "kArray = [float(i) for i in range(7, 13)]\n",
    "a = 0.15\n",
    "\n",
    "u_rest = 0.\n",
    "v_rest = 0.\n",
    "\n",
    "T = 40.\n",
    "TScaled = 12.9*T\n",
    "numBlocksAnalitical = 2**19\n",
    "dtAnalitical = T/numBlocksAnalitical\n",
    "numBlocksArray = np.asarray([int(2**n) for n in range(6, 18)])\n",
    "dtArray = np.asarray([dtAnalitical] + list(float(T)/numBlocksArray[::-1]))\n",
    "dtArrayScaled = 12.9*dtArray\n",
    "\n",
    "print(dtArrayScaled)"
   ]
  },
  {
   "cell_type": "markdown",
   "metadata": {},
   "source": [
    "#Функция Main, для дальнейшего расчета погрешностей разных методов по разным нормам"
   ]
  },
  {
   "cell_type": "code",
   "execution_count": 7,
   "metadata": {},
   "outputs": [
    {
     "name": "stdout",
     "output_type": "stream",
     "text": [
      "Iteration #0\n"
     ]
    },
    {
     "name": "stdout",
     "output_type": "stream",
     "text": [
      "Iteration #1\n"
     ]
    },
    {
     "name": "stdout",
     "output_type": "stream",
     "text": [
      "Iteration #2\n"
     ]
    },
    {
     "name": "stdout",
     "output_type": "stream",
     "text": [
      "Iteration #3\n"
     ]
    },
    {
     "name": "stdout",
     "output_type": "stream",
     "text": [
      "Iteration #4\nIteration #5\n"
     ]
    },
    {
     "name": "stdout",
     "output_type": "stream",
     "text": [
      "Iteration #6\nIteration #7\nIteration #8\nIteration #9\nIteration #10\nIteration #11\nIteration #12\n"
     ]
    },
    {
     "name": "stderr",
     "output_type": "stream",
     "text": [
      "/Users/quothewhite/anaconda/envs/python3/lib/python3.6/site-packages/ipykernel_launcher.py:10: RuntimeWarning: overflow encountered in double_scalars\n  # Remove the CWD from sys.path while we load stuff.\n/Users/quothewhite/anaconda/envs/python3/lib/python3.6/site-packages/ipykernel_launcher.py:10: RuntimeWarning: invalid value encountered in double_scalars\n  # Remove the CWD from sys.path while we load stuff.\n"
     ]
    }
   ],
   "source": [
    "speedup = []\n",
    "timingEE, timingSIE = [], []\n",
    "error, error_e = [], []\n",
    "listOfTimeArrays, listOfNumericalSolutions = list(), list()\n",
    "analiticalSolutionFunc = None\n",
    "MIN, MAX = 0., 0.\n",
    "\n",
    "counter = 0\n",
    "for dt in dtArray:\n",
    "    print ('Iteration #%d' % counter)\n",
    "    \n",
    "    time_array = np.arange(0, T + dt, dt)\n",
    "    time_array_scaled = 12.9 * time_array\n",
    "    dtScaled = 12.9*dt\n",
    "    SIZE = len(time_array)\n",
    "    \n",
    "    u = np.zeros(SIZE)\n",
    "    v = np.ones(SIZE)\n",
    "    RhsU = np.zeros(SIZE) # [0. for i in range(size)]\n",
    "    RhsV = np.zeros(SIZE)\n",
    "\n",
    "    u_e = np.zeros(SIZE)\n",
    "    v_e = np.zeros(SIZE) #[0. for i in range(size)]\n",
    "\n",
    "    RhsU_e = np.zeros(SIZE) #[0. for i in range(size)]\n",
    "    RhsV_e = np.zeros(SIZE)\n",
    "\n",
    "    I_s =10*np.ones(SIZE) #[10. for i in range(size)]\n",
    "\n",
    "\n",
    "\n",
    "    NUM_LAUNCHES = 1 # N = 3 - used for calculaions for the article\n",
    "    startEE = time.clock()\n",
    "    for i in range(NUM_LAUNCHES):\n",
    "        CalculateUsingExplicitEuler(time_array, SIZE, dt, counter, u_e, v_e, RhsU_e, RhsV_e, I_s, \\\n",
    "                                                                        kOriginal, u_rest, v_rest)\n",
    "        #print('EE calculation #%d complete' % i)\n",
    "    timingEE.append((time.clock() - startEE)/NUM_LAUNCHES)\n",
    "\n",
    "    startSIE = time.clock()\n",
    "    for i in range(NUM_LAUNCHES):\n",
    "        CalculateUsingSImplicitEuler(time_array, SIZE, dt, counter, u, v, RhsU, RhsV, I_s, \\\n",
    "                                                                        kOriginal, u_rest, v_rest)\n",
    "        #print('SIE calculation #%d complete' % i)   \n",
    "    timingSIE.append((time.clock() - startSIE)/NUM_LAUNCHES)\n",
    "      \n",
    "\n",
    "    if (counter == 0):\n",
    "        analiticalSolution = np.zeros(SIZE)\n",
    "        analiticalSolution[:] = 100*u_e[:] - 80 # scaled to membrane voltage\n",
    "        MIN, MAX = np.amin(analiticalSolution), np.amax(analiticalSolution)\n",
    "        amplitude = MAX - MIN\n",
    "        analiticalSolution[:] -= MIN\n",
    "        analiticalSolutionFunc = intp.interp1d(time_array_scaled, analiticalSolution)\n",
    "\n",
    "\n",
    "    u_e[:] = 100*u_e[:] - 80 # scaled to membrane voltage\n",
    "    u[:] = 100*u[:] - 80 # scaled to membrane voltage\n",
    "\n",
    "    u[:] -= MIN\n",
    "    u_e[:] -= MIN\n",
    "\n",
    "\n",
    "    errTmp = CalculateNorm(analiticalSolutionFunc, u, TScaled, dtScaled, amplitude)\n",
    "    errTmp_e = CalculateNorm(analiticalSolutionFunc, u_e, TScaled, dtScaled, amplitude)\n",
    "\n",
    "    error.append(errTmp)\n",
    "    error_e.append(errTmp_e)\n",
    "\n",
    "    listOfTimeArrays.append(time_array_scaled)\n",
    "    listOfNumericalSolutions.append(u_e)\n",
    "    counter += 1"
   ]
  },
  {
   "cell_type": "markdown",
   "metadata": {},
   "source": [
    "#Оценка погрешностей, таблица погрешностей"
   ]
  },
  {
   "cell_type": "code",
   "execution_count": 8,
   "metadata": {},
   "outputs": [
    {
     "name": "stdout",
     "output_type": "stream",
     "text": [
      "[7.62939453e-05 3.05175781e-04 6.10351562e-04 1.22070312e-03\n 2.44140625e-03 4.88281250e-03 9.76562500e-03 1.95312500e-02\n 3.90625000e-02 7.81250000e-02 1.56250000e-01 3.12500000e-01\n 6.25000000e-01]\n[0.00000000e+000 6.02890702e-003 1.40674918e-002 3.01448005e-002\n 6.22999385e-002 1.26612004e-001 2.55240941e-001 5.12499148e-001\n 1.02686433e+000 2.05375239e+000 4.09003580e+000 9.32828516e+000\n 1.79769313e+308]\n"
     ]
    },
    {
     "name": "stdout",
     "output_type": "stream",
     "text": [
      "                    dt                    t_calc            \n         Неявный метод Явный метод Неявный метод Явный метод\nRRMS   1      0.177235    0.490747      0.022909    0.004640\n       3      0.527807    1.476136      0.006454    0.001617\n       5      0.876175    2.365770      0.004142    0.000950\nMaxmod 1      0.052388    0.113297      0.077329    0.022164\n       3      0.155919    0.341746      0.025078    0.007380\n       5      0.259013    0.575357      0.015060    0.004075\n"
     ]
    }
   ],
   "source": [
    "import pandas as pd\n",
    "\n",
    "error = np.asarray(error)\n",
    "error_e = np.asarray(error_e)\n",
    "\n",
    "print(dtArray)\n",
    "\n",
    "listOfTolerances = [1., 3., 5.]\n",
    "LEN = len(listOfTolerances)\n",
    "NUM_ERROR_TYPES = 2\n",
    "\n",
    "errorFunctionRRMS = intp.interp1d(error[:,0], dtArrayScaled)\n",
    "errorFunctionMaxmod = intp.interp1d(error[:,1], dtArrayScaled)\n",
    "timingFunctionRRMS = intp.interp1d(error[:,0], timingSIE)\n",
    "timingFunctionMaxmod = intp.interp1d(error[:,1], timingSIE)\n",
    "\n",
    "error_e_FunctionRRMS = intp.interp1d(error_e[:,0], dtArrayScaled)\n",
    "error_e_FunctionMaxmod = intp.interp1d(error_e[:,1], dtArrayScaled)\n",
    "timing_e_FunctionRRMS = intp.interp1d(error_e[:,0], timingEE)\n",
    "timing_e_FunctionMaxmod = intp.interp1d(error_e[:,1], timingEE)\n",
    "\n",
    "\n",
    "\n",
    "print(error_e[:,0])\n",
    "#print(errorFunctionRRMS(listOfTolerances) + \n",
    " #                               errorFunctionMaxmod(listOfTolerances))\n",
    "\n",
    "d = {('dt', 'Явный метод'): pd.Series(list(error_e_FunctionRRMS(listOfTolerances)) + \n",
    "                                list(error_e_FunctionMaxmod(listOfTolerances)),\n",
    "                            index=[3*['RRMS'] + 3*['Maxmod'], 2*[1, 3, 5]]),\n",
    "     ('dt', 'Неявный метод'): pd.Series(list(errorFunctionRRMS(listOfTolerances)) + \n",
    "                            list(errorFunctionMaxmod(listOfTolerances)),\n",
    "                            index=[3*['RRMS'] + 3*['Maxmod'], 2*[1, 3, 5]]),\n",
    "     ('t_calc', 'Явный метод'): pd.Series(list(timing_e_FunctionRRMS(listOfTolerances)) + \n",
    "                                list(timing_e_FunctionMaxmod(listOfTolerances)),\n",
    "                            index=[3*['RRMS'] + 3*['Maxmod'], 2*[1, 3, 5]]),\n",
    "     ('t_calc', 'Неявный метод'): pd.Series(list(timingFunctionRRMS(listOfTolerances)) + \n",
    "                            list(timingFunctionMaxmod(listOfTolerances)),\n",
    "                            index=[3*['RRMS'] + 3*['Maxmod'], 2*[1, 3, 5]])\n",
    "   }\n",
    "\n",
    "micolumns = pd.MultiIndex.from_tuples([('dt', 'Явный метод'), \n",
    "                                       ('dt', 'Неявный метод'),\n",
    "                                       ('t_calc', 'Явный метод'),\n",
    "                                       ('t_calc', 'Неявный метод')\n",
    "                                        ])\n",
    "\n",
    "\n",
    "df = pd.DataFrame(d)\n",
    "#df = pd.DataFrame(np.random.rand(6, 4),\n",
    "#                  index=[3*['RRMS'] + 3*['Maxmod'], 2*[1, 3, 5]],\n",
    "#                  columns=micolumns)\n",
    "\n",
    "#df.unstack()\n",
    "print(df)\n",
    "\n",
    "writer = pd.ExcelWriter('ap_model_k_8.xlsx')\n",
    "df.to_excel(writer, 'Sheet1')\n",
    "writer.save()"
   ]
  },
  {
   "cell_type": "code",
   "execution_count": 11,
   "metadata": {},
   "outputs": [
    {
     "name": "stderr",
     "output_type": "stream",
     "text": [
      "/Users/quothewhite/anaconda/envs/python3/lib/python3.6/site-packages/numpy/ma/core.py:6641: RuntimeWarning: overflow encountered in power\n  result = np.where(m, fa, umath.power(fa, fb)).view(basetype)\n"
     ]
    },
    {
     "data": {
      "text/plain": [
       "<matplotlib.legend.Legend at 0xa3bd70ac8>"
      ]
     },
     "execution_count": 11,
     "metadata": {},
     "output_type": "execute_result"
    }
   ],
   "source": [
    "matplotlib.rcParams.update({'font.size': 25})\n",
    "\n",
    "plt.figure(figsize=(13,8.5))\n",
    "plt.loglog((timingSIE[1:]), (error[1:,0]), 'k-o', label='Упрощенный неявный метод', linewidth=4, markersize = 15)\n",
    "plt.loglog((timingEE[1:]), (error_e[1:,0]), 'k-^', label='Явный метод', linewidth=4, markersize = 15)\n",
    "plt.grid('on')\n",
    "plt.xlabel('Время вычисления, с')\n",
    "plt.ylabel('Погрешность RRMS, %')\n",
    "plt.ylim([1e-3, 1e3])\n",
    "plt.axhline(y=5, linewidth=4, color='k', linestyle='--', label='5%')\n",
    "plt.axhline(y=1, linewidth=4, color='k', linestyle='-', label='1%')\n",
    "plt.legend(loc='best', fontsize=20)\n",
    "\n",
    "plt.figure(figsize=(13,8.5))\n",
    "plt.loglog((timingSIE[1:]), (error[1:,1]), 'k-o', label='Упрощенный неявный метод', linewidth=4, markersize = 15)\n",
    "plt.loglog((timingEE[1:]), (error_e[1:,1]), 'k-^', label='Явный метод', linewidth=4, markersize = 15)\n",
    "plt.grid('on')\n",
    "plt.xlabel('Время вычисления, с')\n",
    "plt.ylabel('Погрешность Maxmod, %')\n",
    "plt.ylim([1e-3, 1e3])\n",
    "plt.axhline(y=5, linewidth=4, color='k', linestyle='--', label='5%')\n",
    "plt.axhline(y=1, linewidth=4, color='k', linestyle='-', label='1%')\n",
    "plt.legend(loc='best', fontsize=20)"
   ]
  },
  {
   "cell_type": "markdown",
   "metadata": {},
   "source": [
    "#Оценка шагов по времени, при которых достигается заданная точность"
   ]
  },
  {
   "cell_type": "code",
   "execution_count": 165,
   "metadata": {},
   "outputs": [
    {
     "name": "stdout",
     "output_type": "stream",
     "text": [
      "[0.06792057269425687, 0.02007851911299917]\n"
     ]
    }
   ],
   "source": [
    "tolerance2 = 5.\n",
    "dtArrayForTolerance = [float(errorFunctionRRMS(tolerance2))/12.9, float(errorFunctionMaxmod(tolerance2))/12.9]\n",
    "print(dtArrayForTolerance)\n",
    "#print(12.9*dtAnalitical)"
   ]
  },
  {
   "cell_type": "code",
   "execution_count": 166,
   "metadata": {},
   "outputs": [
    {
     "name": "stdout",
     "output_type": "stream",
     "text": [
      "Iteration #0\n"
     ]
    },
    {
     "name": "stdout",
     "output_type": "stream",
     "text": [
      "Iteration #1\nIteration #2\n"
     ]
    }
   ],
   "source": [
    "listOfTimeArrays, listOfNumericalSolutions = list(), list()\n",
    "analiticalSolution = None\n",
    "dtArray2 = [dtAnalitical] + dtArrayForTolerance\n",
    "counter = 0\n",
    "for dt in dtArray2:\n",
    "    print ('Iteration #%d' % counter)\n",
    "    \n",
    "    time_array = np.arange(0, T + dt, dt)\n",
    "    time_array_scaled = 12.9 * time_array\n",
    "    dtScaled = 12.9*dt\n",
    "    SIZE = len(time_array)\n",
    "    \n",
    "    u = np.zeros(SIZE)\n",
    "    v = np.ones(SIZE)\n",
    "    RhsU = np.zeros(SIZE) # [0. for i in range(size)]\n",
    "    RhsV = np.zeros(SIZE)\n",
    "\n",
    "    u_e = np.zeros(SIZE)\n",
    "    v_e = np.zeros(SIZE) #[0. for i in range(size)]\n",
    "\n",
    "    RhsU_e = np.zeros(SIZE) #[0. for i in range(size)]\n",
    "    RhsV_e = np.zeros(SIZE)\n",
    "\n",
    "    \n",
    "    CalculateUsingExplicitEuler(time_array, SIZE, dt, counter, u_e, v_e, RhsU_e, RhsV_e, I_s, \\\n",
    "                                                                        kOriginal, u_rest, v_rest)     \n",
    "    \n",
    "    CalculateUsingSImplicitEuler(time_array, SIZE, dt, counter, u, v, RhsU, RhsV, I_s, \\\n",
    "                                                                kOriginal, u_rest, v_rest)\n",
    "      \n",
    "    if (counter == 0):\n",
    "        analiticalSolution = np.zeros(SIZE)\n",
    "        analiticalSolution[:] = 100*u_e[:] - 80 # scaled to membrane voltage\n",
    "        MIN, MAX = np.amin(analiticalSolution), np.amax(analiticalSolution)\n",
    "        amplitude = MAX - MIN\n",
    "        analiticalSolution[:] -= MIN\n",
    "        analiticalSolutionFunc = intp.interp1d(time_array_scaled, analiticalSolution)\n",
    "\n",
    "\n",
    "    u[:] = 100*u[:] - 80 # scaled to membrane voltage\n",
    "    u[:] -= MIN\n",
    "\n",
    "    listOfTimeArrays.append(time_array_scaled)\n",
    "    listOfNumericalSolutions.append(u)\n",
    "    \n",
    "    counter += 1"
   ]
  },
  {
   "cell_type": "code",
   "execution_count": 167,
   "metadata": {},
   "outputs": [],
   "source": [
    "plt.figure(figsize=(13, 8.5))\n",
    "counter2 = 0\n",
    "\n",
    "plt.plot(listOfTimeArrays[0], analiticalSolution, 'k--', label='Референсное решение', linewidth=2)\n",
    "plt.plot(listOfTimeArrays[1], listOfNumericalSolutions[1], '-', label='Погрешность 5% по норме RRMS', linewidth=2)    \n",
    "plt.plot(listOfTimeArrays[2], listOfNumericalSolutions[2], '-', label='Погрешность 5% по норме Maxmod', linewidth=2)\n",
    "plt.legend(loc='best', prop={'size': 20})\n",
    "plt.xlabel('Время, мс')\n",
    "plt.ylabel('V, мВ')\n",
    "plt.ylim([-10, 140])\n",
    "plt.xlim([0, 516])\n",
    "plt.grid('on')\n",
    "plt.show()"
   ]
  },
  {
   "cell_type": "markdown",
   "metadata": {},
   "source": [
    "#График аналитического решения"
   ]
  },
  {
   "cell_type": "code",
   "execution_count": 170,
   "metadata": {},
   "outputs": [],
   "source": [
    "matplotlib.rcParams.update({'font.size': 25})\n",
    "\n",
    "plt.figure(figsize=(13, 8.5))\n",
    "plt.plot(listOfTimeArrays[0], analiticalSolution, 'k-', label='k = 8', linewidth=4)\n",
    "plt.legend(loc='best', prop={'size': 20})\n",
    "plt.xlabel('Время, мс')\n",
    "plt.ylabel('V, мВ')\n",
    "#plt.ylim([0, 140])\n",
    "plt.xlim([0, 516])\n",
    "plt.grid('on')\n",
    "plt.show()"
   ]
  },
  {
   "cell_type": "markdown",
   "metadata": {},
   "source": [
    "#Производные высших порядков и их Max значения"
   ]
  },
  {
   "cell_type": "code",
   "execution_count": 171,
   "metadata": {},
   "outputs": [],
   "source": [
    "VAnalyticalArray = analiticalSolution\n",
    "\n",
    "tAnalyticalArray = listOfTimeArrays[0] # corresponding array of timesteps, in msec\n",
    "dt = np.diff(tAnalyticalArray)[0] # [0]=[1]=[2]=...=[n] because the grid is equally spaced\n",
    "\n",
    "\n",
    "matplotlib.rcParams.update({'font.size': 20})\n",
    "xTicks = [0, 250, 500]\n",
    "#from matplotlib.ticker import FormatStrFormatter\n",
    "# plotting derivatives calculated via finite-difference formulas\n",
    "maxOrderDerivative = 5\n",
    "valuesArray, tArray, dt = VAnalyticalArray, tAnalyticalArray, np.diff(tAnalyticalArray)[0]\n",
    "plt.figure(figsize=(13, 8.5))\n",
    "\n",
    "# plotting analytical solution\n",
    "ax = plt.subplot(2, 3, 1)\n",
    "plt.plot(tArray[1:], valuesArray[1:], 'k-', lw=3)  \n",
    "plt.grid('on')\n",
    "plt.xlim([0, 516])\n",
    "ax.set_xticks(xTicks)\n",
    "ax.set_xticklabels([])\n",
    "plt.ticklabel_format(style='sci', axis='y', scilimits=(0,0), useMathText=True)\n",
    "plt.ylabel(r'$\\mathregular{V, мВ}$')   \n",
    "\n",
    "# plotting derivatives\n",
    "for i in range(1, maxOrderDerivative + 1):\n",
    "    ax = plt.subplot(2, 3, i + 1)\n",
    "    \n",
    "    dt = np.diff(tArray)[0]\n",
    "    derivativeArray = np.gradient(valuesArray, dt)\n",
    "    plt.plot(tArray[2:-2], derivativeArray[2:-2], 'k-', lw=3)  \n",
    "    plt.grid('on')\n",
    "    plt.xlim([0, 516])\n",
    "    ax.set_xticks(xTicks)\n",
    "    ax.set_xticklabels([])\n",
    "    #ax.yaxis.set_major_formatter(FormatStrFormatter('%.1e'))\n",
    "    plt.ticklabel_format(style='sci', axis='y', scilimits=(0,0), useMathText=True)\n",
    "    \n",
    "    plt.ylabel(r'$\\mathregular{V^{\\left(%d\\right)}, мВ/мс^{%d}}$' % (i, i))\n",
    "    \n",
    "    if i > 1: # print max value for derivatives of order >= 2\n",
    "        ax.set_title(r'$\\mathregular{\\max |V^{\\left(%d\\right)}| = %.2e \\; мВ/мс^{%d}}$' \\\n",
    "                    % (i, np.fabs(derivativeArray[2:-2]).max(), i), fontsize=15, y = 1.15)\n",
    "    \n",
    "    if i > 2: # set xlabels the bottom subplots\n",
    "        ax.set_xticks(xTicks)\n",
    "        ax.set_xticklabels(xTicks)\n",
    "        plt.xlabel(r'Время, мс')\n",
    "    \n",
    "    tArray = tArray[::4]\n",
    "    valuesArray = derivativeArray[::4]\n",
    "    \n",
    "\n",
    "plt.show()"
   ]
  },
  {
   "cell_type": "markdown",
   "metadata": {},
   "source": [
    "#Графики аналитических решений при различных k"
   ]
  },
  {
   "cell_type": "code",
   "execution_count": 58,
   "metadata": {},
   "outputs": [],
   "source": [
    "@nb.jit(nopython=True)\n",
    "def eps(u, v):\n",
    "    eps0 = 0.002\n",
    "    mu1 = 0.2\n",
    "    mu2 = 0.3\n",
    "    return eps0 + (mu1*v) / (u + mu2)\n",
    "\n",
    "@nb.jit(nopython=True)\n",
    "def rhsU(u, v, k, iStim=0.1):\n",
    "    return -k*u*(u - a)*(u - 1) - u*v + iStim\n",
    "\n",
    "@nb.jit(nopython=True)\n",
    "def rhsV(u, v, k):\n",
    "    return eps(u, v)*(-v - k*u*(u - a - 1))\n",
    "\n",
    "\n",
    "@nb.jit((nb.float64[:], nb.int64, nb.float64, nb.int64, \\\n",
    "                        nb.float64[:], nb.float64[:], nb.float64[:], nb.float64[:], \\\n",
    "                        nb.float64[:], nb.float64, nb.float64, nb.float64), nopython=True)\n",
    "def CalculateUsingExplicitEuler(time_array, size, dt, counter, u, v, RhsU, RhsV, I_s, k,\\\n",
    "                                u_rest, v_rest):\n",
    "    u[0] = u_rest\n",
    "    v[0] = v_rest\n",
    "\n",
    "    for i in range(1, size):\n",
    "        RhsU[i - 1] = rhsU(u[i - 1], v[i - 1], k)\n",
    "        RhsV[i - 1] = rhsV(u[i - 1], v[i - 1], k)\n",
    "\n",
    "        u[i] = u[i - 1] + dt*RhsU[i - 1]\n",
    "        v[i] = v[i - 1] + dt*RhsV[i - 1]\n",
    " \n",
    "        \n",
    "@nb.jit((nb.float64[:], nb.int64, nb.float64, nb.int64, \\\n",
    "                        nb.float64[:], nb.float64[:], nb.float64[:], nb.float64[:],\\\n",
    "                       nb.float64[:], nb.float64, nb.float64, nb.float64), nopython=True)\n",
    "def CalculateUsingSImplicitEuler(time_array, size, dt, counter, u, v, RhsU, RhsV, I_s, k,\\\n",
    "                                 u_rest, v_rest):\n",
    "\n",
    "    u[0] = u_rest\n",
    "    v[0] = v_rest\n",
    "    stepForDer = 1e-2\n",
    "    \n",
    "    for i in range(1, size):\n",
    "        #print('SIE step: complete %.2f' % (i/float(size - 1)))\n",
    "        RhsU[i - 1] = rhsU(u[i - 1], v[i - 1], k)\n",
    "        RhsV[i - 1] = rhsV(u[i - 1], v[i - 1], k)\n",
    "\n",
    "        dRhsUdU = (rhsU(u[i - 1] + stepForDer, v[i - 1], k) \\\n",
    "                                - RhsU[i - 1]) / stepForDer\n",
    "\n",
    "        v[i] = v[i - 1] + dt*RhsV[i - 1]\n",
    "        u[i] = u[i - 1] + dt*RhsU[i - 1] / (1 - dt*dRhsUdU)"
   ]
  },
  {
   "cell_type": "code",
   "execution_count": 40,
   "metadata": {},
   "outputs": [
    {
     "name": "stdout",
     "output_type": "stream",
     "text": [
      "7.62939453125e-05\nIteration #0\n"
     ]
    },
    {
     "name": "stdout",
     "output_type": "stream",
     "text": [
      "Iteration #1\n"
     ]
    },
    {
     "name": "stdout",
     "output_type": "stream",
     "text": [
      "Iteration #2\n"
     ]
    },
    {
     "name": "stdout",
     "output_type": "stream",
     "text": [
      "Iteration #3\n"
     ]
    },
    {
     "name": "stdout",
     "output_type": "stream",
     "text": [
      "Iteration #4\n"
     ]
    },
    {
     "name": "stdout",
     "output_type": "stream",
     "text": [
      "Iteration #5\n"
     ]
    }
   ],
   "source": [
    "kArray = [i for i in range(7, 13)]\n",
    "dt = dtAnalitical\n",
    "print(dt)\n",
    "T = 40\n",
    "\n",
    "time_array = np.arange(0, T + dt, dt)\n",
    "SIZE = len(time_array)\n",
    "u = np.zeros(SIZE)\n",
    "v = np.ones(SIZE)\n",
    "RhsU = np.zeros(SIZE) # [0. for i in range(size)]\n",
    "RhsV = np.zeros(SIZE)\n",
    "u_e = np.zeros(SIZE)\n",
    "v_e = np.zeros(SIZE) #[0. for i in range(size)]\n",
    "RhsU_e = np.zeros(SIZE) #[0. for i in range(size)]\n",
    "RhsV_e = np.zeros(SIZE)\n",
    "analiticalSolutionsList = []\n",
    "\n",
    "counter = 0\n",
    "\n",
    "for k in kArray: \n",
    "    print('Iteration #%d' % counter)\n",
    "    \n",
    "    CalculateUsingExplicitEuler(time_array, SIZE, dt, counter, u_e, v_e, RhsU_e, RhsV_e, I_s, \\\n",
    "                                                                        k, u_rest, v_rest)\n",
    "    \n",
    "    analiticalSolution = np.zeros(len(time_array))\n",
    "    analiticalSolution[:] = 100*u_e[:] - 80\n",
    "    MIN, MAX = np.amin(analiticalSolution), np.amax(analiticalSolution)\n",
    "    amplitude = MAX - MIN\n",
    "    analiticalSolution[:] -= MIN\n",
    "    #analiticalSolution = analiticalSolution[::4]\n",
    "\n",
    "    counter += 1\n",
    "    analiticalSolutionsList.append(analiticalSolution)\n",
    "   \n",
    "\n",
    "# plotting analytical solutions\n",
    "time_array = 12.9*time_array\n",
    "#time_array = time_array[::4]\n",
    "matplotlib.rcParams.update({'font.size': 25})\n",
    "plt.figure()\n",
    "for i in range(len(kArray)):\n",
    "    if kArray[i] == 8:\n",
    "        plt.plot(time_array, analiticalSolutionsList[i], 'k--', label=r'$\\mathbf{k = %d}$' % kArray[i], linewidth=4)\n",
    "    else:\n",
    "        plt.plot(time_array, analiticalSolutionsList[i], '-', label=r'$\\mathregular{k = %d}$' % kArray[i], linewidth=4)\n",
    "        plt.legend(loc='best', fontsize=20)\n",
    "        plt.xlabel(r'Время, мс')\n",
    "        plt.ylabel(r'V, мВ')\n",
    "        #plt.ylim([0, 140])\n",
    "        plt.xlim([0, 516])\n",
    "        plt.grid('on')\n",
    "plt.show()"
   ]
  },
  {
   "cell_type": "markdown",
   "metadata": {},
   "source": [
    "#Графики ускорений"
   ]
  },
  {
   "cell_type": "code",
   "execution_count": 66,
   "metadata": {},
   "outputs": [
    {
     "name": "stdout",
     "output_type": "stream",
     "text": [
      "Iteration #0\nTime array, scaled:  [0.00000000e+00 9.84191895e-04 1.96838379e-03 ... 5.15998032e+02\n 5.15999016e+02 5.16000000e+02]\n"
     ]
    },
    {
     "name": "stdout",
     "output_type": "stream",
     "text": [
      "Iteration #1\nIteration #2\n"
     ]
    },
    {
     "name": "stdout",
     "output_type": "stream",
     "text": [
      "Iteration #3\nIteration #4\nIteration #5\nIteration #6\nIteration #7\nIteration #8\nIteration #9\nIteration #10\nIteration #11\nIteration #12\nIteration #0\n"
     ]
    },
    {
     "name": "stdout",
     "output_type": "stream",
     "text": [
      "Iteration #1\nIteration #2\n"
     ]
    },
    {
     "name": "stdout",
     "output_type": "stream",
     "text": [
      "Iteration #3\nIteration #4\nIteration #5\nIteration #6\nIteration #7\nIteration #8\nIteration #9\nIteration #10\n"
     ]
    },
    {
     "name": "stdout",
     "output_type": "stream",
     "text": [
      "Iteration #11\nIteration #12\nIteration #0\n"
     ]
    },
    {
     "name": "stdout",
     "output_type": "stream",
     "text": [
      "Iteration #1\nIteration #2\n"
     ]
    },
    {
     "name": "stdout",
     "output_type": "stream",
     "text": [
      "Iteration #3\nIteration #4\nIteration #5\nIteration #6\nIteration #7\nIteration #8\nIteration #9\nIteration #10\nIteration #11\nIteration #12\nIteration #0\n"
     ]
    },
    {
     "name": "stderr",
     "output_type": "stream",
     "text": [
      "/Users/quothewhite/anaconda/envs/python3/lib/python3.6/site-packages/ipykernel_launcher.py:8: RuntimeWarning: overflow encountered in square\n  \n"
     ]
    },
    {
     "name": "stdout",
     "output_type": "stream",
     "text": [
      "Iteration #1\nIteration #2\n"
     ]
    },
    {
     "name": "stdout",
     "output_type": "stream",
     "text": [
      "Iteration #3\nIteration #4\nIteration #5\nIteration #6\nIteration #7\nIteration #8\nIteration #9\nIteration #10\nIteration #11\nIteration #12\nIteration #0\n"
     ]
    },
    {
     "name": "stdout",
     "output_type": "stream",
     "text": [
      "Iteration #1\nIteration #2\n"
     ]
    },
    {
     "name": "stdout",
     "output_type": "stream",
     "text": [
      "Iteration #3\nIteration #4\nIteration #5\nIteration #6\nIteration #7\nIteration #8\nIteration #9\nIteration #10\nIteration #11\nIteration #12\nIteration #0\n"
     ]
    },
    {
     "name": "stderr",
     "output_type": "stream",
     "text": [
      "/Users/quothewhite/anaconda/envs/python3/lib/python3.6/site-packages/ipykernel_launcher.py:62: RuntimeWarning: overflow encountered in multiply\n"
     ]
    },
    {
     "name": "stdout",
     "output_type": "stream",
     "text": [
      "Iteration #1\nIteration #2\n"
     ]
    },
    {
     "name": "stdout",
     "output_type": "stream",
     "text": [
      "Iteration #3\nIteration #4\nIteration #5\nIteration #6\nIteration #7\nIteration #8\nIteration #9\nIteration #10\nIteration #11\nIteration #12\n"
     ]
    }
   ],
   "source": [
    "kArray = [i for i in range(7, 13)]\n",
    "dtArray = np.asarray([dtAnalitical] + list(float(T)/numBlocksArray[::-1]))\n",
    "T = 40\n",
    "TScaled = 12.9 * T\n",
    "counterInner, counterOuter = 0, 0\n",
    "speedupRRMS, speedupMaxmod = [], []\n",
    "\n",
    "for k in kArray:\n",
    "    timingEE, timingSIE = [], []\n",
    "    error, error_e = [], []\n",
    "    counterInner = 0\n",
    "    for dt in dtArray:\n",
    "\n",
    "        print ('Iteration #%d' % counterInner)\n",
    "        time_array = np.arange(0, T + dt, dt)\n",
    "        time_array_scaled = 12.9 * time_array\n",
    "           \n",
    "        dtScaled = 12.9 * dt\n",
    "        \n",
    "        SIZE = len(time_array)\n",
    "        u = np.zeros(SIZE)\n",
    "        v = np.ones(SIZE)\n",
    "        RhsU = np.zeros(SIZE) # [0. for i in range(size)]\n",
    "        RhsV = np.zeros(SIZE)\n",
    "\n",
    "        u_e = np.zeros(SIZE)\n",
    "        v_e = np.zeros(SIZE) #[0. for i in range(size)]\n",
    "\n",
    "        RhsU_e = np.zeros(SIZE) #[0. for i in range(size)]\n",
    "        RhsV_e = np.zeros(SIZE)\n",
    "\n",
    "        I_s =10*np.ones(SIZE) #[10. for i in range(size)]\n",
    "\n",
    "\n",
    "\n",
    "        NUM_LAUNCHES = 20 # N = 3 - used for the article\n",
    "        startEE = time.clock()\n",
    "        for i in range(NUM_LAUNCHES):\n",
    "            CalculateUsingExplicitEuler(time_array, SIZE, dt, counterInner, u_e, v_e, RhsU_e, RhsV_e, I_s, \\\n",
    "                                                                                            k, u_rest, v_rest)\n",
    "        tEE = (time.clock() - startEE) / NUM_LAUNCHES\n",
    "        timingEE.append(tEE)\n",
    "\n",
    "        startSIE = time.clock()\n",
    "        for i in range(NUM_LAUNCHES):\n",
    "            CalculateUsingSImplicitEuler(time_array, SIZE, dt, counterInner, u, v, RhsU, RhsV, I_s, \\\n",
    "                                                                                   k, u_rest, v_rest)\n",
    "        tSIE = (time.clock() - startSIE) / NUM_LAUNCHES\n",
    "        timingSIE.append(tSIE)\n",
    "\n",
    "\n",
    "        if counterInner == 0:\n",
    "            analiticalSolution = np.zeros(len(time_array))\n",
    "            analiticalSolution[:] = 100*u_e[:] - 80 # scaled to membrane voltage\n",
    "            MIN, MAX = np.amin(analiticalSolution), np.amax(analiticalSolution)\n",
    "            amplitude = MAX - MIN\n",
    "            analiticalSolution[:] -= MIN\n",
    "            analiticalSolutionFunc = intp.interp1d(time_array_scaled, analiticalSolution)\n",
    "\n",
    "\n",
    "        u_e[:] = 100*u_e[:] - 80 # scaled to membrane voltage\n",
    "        u[:] = 100*u[:] - 80 # scaled to membrane voltage\n",
    "\n",
    "        u[:] -= MIN\n",
    "        u_e[:] -= MIN \n",
    "\n",
    "\n",
    "        errTmp = CalculateNorm(analiticalSolutionFunc, u, TScaled, dtScaled, amplitude)\n",
    "        errTmp_e = CalculateNorm(analiticalSolutionFunc, u_e, TScaled, dtScaled, amplitude)\n",
    "\n",
    "        error.append(errTmp)\n",
    "        error_e.append(errTmp_e)\n",
    "        \n",
    "        counterInner += 1\n",
    "\n",
    "\n",
    "    counterOuter += 1\n",
    "    error_for_calc = np.asarray(error)\n",
    "    error_e_for_calc = np.asarray(error_e)\n",
    "\n",
    "    speedupRRMS.append([intp.interp1d(error_e_for_calc[:, 0], timingEE)(5.) / \\\n",
    "                            intp.interp1d(error_for_calc[:, 0], timingSIE)(5.), \\\n",
    "                            intp.interp1d(error_e_for_calc[:, 0], timingEE)(1.) / \\\n",
    "                            intp.interp1d(error_for_calc[:, 0], timingSIE)(1.)]\n",
    "                           )\n",
    "\n",
    "    speedupMaxmod.append([intp.interp1d(error_e_for_calc[:, 1], timingEE)(5.) / \\\n",
    "                              intp.interp1d(error_for_calc[:, 1], timingSIE)(5.), \\\n",
    "                              intp.interp1d(error_e_for_calc[:, 1], timingEE)(1.) / \\\n",
    "                              intp.interp1d(error_for_calc[:, 1], timingSIE)(1.)]\n",
    "                             )\n",
    "\n",
    "\n",
    "speedupRRMS = np.asarray(speedupRRMS)\n",
    "speedupMaxmod = np.asarray(speedupMaxmod)"
   ]
  },
  {
   "cell_type": "code",
   "execution_count": 65,
   "metadata": {},
   "outputs": [],
   "source": [
    "plt.figure(figsize=(13, 8.5))\n",
    "plt.plot(kArray, np.array(speedupRRMS[:, 0]), '-o', label=r'5% RRMS', lw=4, \n",
    "         markersize=10)\n",
    "plt.plot(kArray, speedupRRMS[:, 1], '-o', label=r'1% RRMS', linewidth=4, \n",
    "         markersize=10)\n",
    "plt.plot(kArray, speedupMaxmod[:, 0], '-o', label=r'5% Maxmod', linewidth=4, \n",
    "         markersize=10)\n",
    "plt.plot(kArray, speedupMaxmod[:, 1], '-o', label=r'1% Maxmod', linewidth=4, \n",
    "         markersize=10)\n",
    "plt.legend(loc='best')\n",
    "\n",
    "plt.xlabel(r'k')\n",
    "plt.ylabel(r'Ускорение')\n",
    "#plt.ylim([0.0, 0.4])\n",
    "plt.grid('on')\n",
    "plt.show()"
   ]
  },
  {
   "cell_type": "code",
   "execution_count": 368,
   "metadata": {},
   "outputs": [],
   "source": [
    "speedupRRMSCached, speedupMaxmodCached = speedupRRMS, speedupMaxmod"
   ]
  },
  {
   "cell_type": "code",
   "execution_count": null,
   "metadata": {},
   "outputs": [],
   "source": [
    ""
   ]
  }
 ],
 "metadata": {
  "kernelspec": {
   "display_name": "Python 2",
   "language": "python",
   "name": "python2"
  },
  "language_info": {
   "codemirror_mode": {
    "name": "ipython",
    "version": 2.0
   },
   "file_extension": ".py",
   "mimetype": "text/x-python",
   "name": "python",
   "nbconvert_exporter": "python",
   "pygments_lexer": "ipython2",
   "version": "2.7.6"
  }
 },
 "nbformat": 4,
 "nbformat_minor": 0
}